{
 "cells": [
  {
   "cell_type": "code",
   "execution_count": 71,
   "metadata": {},
   "outputs": [
    {
     "name": "stdout",
     "output_type": "stream",
     "text": [
      "[1] 891  12\n",
      "[1] 418  11\n"
     ]
    }
   ],
   "source": [
    "train <- read.csv(\"train.csv\", stringsAsFactors=FALSE)\n",
    "test <- read.csv(\"test.csv\", stringsAsFactors=FALSE)\n",
    "print(dim(train))\n",
    "print(dim(test))"
   ]
  },
  {
   "cell_type": "code",
   "execution_count": 83,
   "metadata": {},
   "outputs": [],
   "source": [
    "require('rpart')\n",
    "require('rpart.plot')\n",
    "require('RColorBrewer')"
   ]
  },
  {
   "cell_type": "code",
   "execution_count": 84,
   "metadata": {},
   "outputs": [],
   "source": [
    "test$Survived <- NA\n",
    "combi <- rbind(train, test)"
   ]
  },
  {
   "cell_type": "code",
   "execution_count": 85,
   "metadata": {},
   "outputs": [
    {
     "data": {
      "text/plain": [
       "\n",
       "   Col     Dr   Lady Master   Miss   Mlle     Mr    Mrs     Ms    Rev    Sir \n",
       "     4      8      4     61    260      3    757    197      2      8      5 "
      ]
     },
     "metadata": {},
     "output_type": "display_data"
    }
   ],
   "source": [
    "combi$Title <- sapply(combi$Name, FUN=function(x) {strsplit(x, split='[,.]')[[1]][2]})\n",
    "combi$Title <- sub(' ', '', combi$Title)\n",
    "combi$Title[combi$Title %in% c('Mme', 'Mlle')] <- 'Mlle'\n",
    "combi$Title[combi$Title %in% c('Capt', 'Don', 'Major', 'Sir')] <- 'Sir'\n",
    "combi$Title[combi$Title %in% c('Dona', 'Lady', 'the Countess', 'Jonkheer')] <- 'Lady'\n",
    "table(combi$Title)"
   ]
  },
  {
   "cell_type": "code",
   "execution_count": 86,
   "metadata": {},
   "outputs": [],
   "source": [
    "combi$FamilySize <- combi$SibSp + combi$Parch + 1\n",
    "combi$Surname <- sapply(combi$Name, FUN=function(x) {strsplit(x, split='[,.]')[[1]][1]})\n",
    "combi$FamilyID <- paste(as.character(combi$FamilySize), combi$Surname, sep=\"\")\n",
    "combi$FamilyID[combi$FamilySize <= 2] <- 'Small'"
   ]
  },
  {
   "cell_type": "code",
   "execution_count": 87,
   "metadata": {},
   "outputs": [],
   "source": [
    "train <- combi[1:891,]\n",
    "test <- combi[892:1309,]\n",
    "fit <- rpart(Survived ~ Pclass + Sex + Age + SibSp + Parch + Fare + Embarked + Title + FamilySize + FamilyID,\n",
    "               data=train, \n",
    "               method=\"class\")\n",
    "#rpart.plot(fit)"
   ]
  },
  {
   "cell_type": "code",
   "execution_count": 88,
   "metadata": {},
   "outputs": [
    {
     "data": {
      "text/html": [
       "0.849607182940516"
      ],
      "text/latex": [
       "0.849607182940516"
      ],
      "text/markdown": [
       "0.849607182940516"
      ],
      "text/plain": [
       "[1] 0.8496072"
      ]
     },
     "metadata": {},
     "output_type": "display_data"
    }
   ],
   "source": [
    "t_pred = predict(fit,train,type=\"class\")\n",
    "confMat <- table(train$Survived,t_pred)\n",
    "sum(diag(confMat))/sum(confMat)"
   ]
  },
  {
   "cell_type": "code",
   "execution_count": 95,
   "metadata": {},
   "outputs": [
    {
     "data": {
      "text/html": [
       "0.849607182940516"
      ],
      "text/latex": [
       "0.849607182940516"
      ],
      "text/markdown": [
       "0.849607182940516"
      ],
      "text/plain": [
       "[1] 0.8496072"
      ]
     },
     "metadata": {},
     "output_type": "display_data"
    }
   ],
   "source": [
    "##################\n",
    "### RandomForest\n",
    "##################\n",
    "train <- read.csv(\"train.csv\")\n",
    "test <- read.csv(\"test.csv\")\n",
    "\n",
    "# Install and load required packages for decision trees and forests\n",
    "library(rpart)\n",
    "library(randomForest)\n",
    "\n",
    "# Join together the test and train sets for easier feature engineering\n",
    "test$Survived <- NA\n",
    "combi <- rbind(train, test)\n",
    "\n",
    "# Convert to a string\n",
    "combi$Name <- as.character(combi$Name)\n",
    "\n",
    "# Engineered variable: Title\n",
    "combi$Title <- sapply(combi$Name, FUN=function(x) {strsplit(x, split='[,.]')[[1]][2]})\n",
    "combi$Title <- sub(' ', '', combi$Title)\n",
    "# Combine small title groups\n",
    "combi$Title[combi$Title %in% c('Mme', 'Mlle')] <- 'Mlle'\n",
    "combi$Title[combi$Title %in% c('Capt', 'Don', 'Major', 'Sir')] <- 'Sir'\n",
    "combi$Title[combi$Title %in% c('Dona', 'Lady', 'the Countess', 'Jonkheer')] <- 'Lady'\n",
    "# Convert to a factor\n",
    "combi$Title <- factor(combi$Title)\n",
    "\n",
    "# Engineered variable: Family size\n",
    "combi$FamilySize <- combi$SibSp + combi$Parch + 1\n",
    "\n",
    "# Engineered variable: Family\n",
    "combi$Surname <- sapply(combi$Name, FUN=function(x) {strsplit(x, split='[,.]')[[1]][1]})\n",
    "combi$FamilyID <- paste(as.character(combi$FamilySize), combi$Surname, sep=\"\")\n",
    "combi$FamilyID[combi$FamilySize <= 2] <- 'Small'\n",
    "# Delete erroneous family IDs\n",
    "famIDs <- data.frame(table(combi$FamilyID))\n",
    "famIDs <- famIDs[famIDs$Freq <= 2,]\n",
    "combi$FamilyID[combi$FamilyID %in% famIDs$Var1] <- 'Small'\n",
    "# Convert to a factor\n",
    "combi$FamilyID <- factor(combi$FamilyID)\n",
    "\n",
    "# Fill in Age NAs\n",
    "#summary(combi$Age)\n",
    "Agefit <- rpart(Age ~ Pclass + Sex + SibSp + Parch + Fare + Embarked + Title + FamilySize, \n",
    "                data=combi[!is.na(combi$Age),], method=\"anova\")\n",
    "combi$Age[is.na(combi$Age)] <- predict(Agefit, combi[is.na(combi$Age),])\n",
    "# Check what else might be missing\n",
    "#summary(combi)\n",
    "# Fill in Embarked blanks\n",
    "#summary(combi$Embarked)\n",
    "#which(combi$Embarked == '')\n",
    "combi$Embarked[c(62,830)] = \"S\"\n",
    "combi$Embarked <- factor(combi$Embarked)\n",
    "# Fill in Fare NAs\n",
    "#summary(combi$Fare)\n",
    "#which(is.na(combi$Fare))\n",
    "combi$Fare[1044] <- median(combi$Fare, na.rm=TRUE)\n",
    "\n",
    "# New factor for Random Forests, only allowed <32 levels, so reduce number\n",
    "combi$FamilyID2 <- combi$FamilyID\n",
    "# Convert back to string\n",
    "combi$FamilyID2 <- as.character(combi$FamilyID2)\n",
    "combi$FamilyID2[combi$FamilySize <= 3] <- 'Small'\n",
    "# And convert back to factor\n",
    "combi$FamilyID2 <- factor(combi$FamilyID2)\n",
    "\n",
    "# Split back into test and train sets\n",
    "train <- combi[1:891,]\n",
    "test <- combi[892:1309,]\n",
    "\n",
    "# Build Random Forest Ensemble\n",
    "set.seed(415)\n",
    "fit1 <- randomForest(as.factor(Survived) ~ Pclass + Sex + Age + SibSp + Parch + Fare + Embarked + Title + FamilySize + FamilyID2,\n",
    "                    data=train, importance=TRUE, ntree=2000)\n",
    "# Look at variable importance\n",
    "#varImpPlot(fit)\n",
    "confs <- fit1$confusion\n",
    "sum(diag(confMat))/sum(confMat)"
   ]
  },
  {
   "cell_type": "code",
   "execution_count": 101,
   "metadata": {},
   "outputs": [],
   "source": [
    "#Using conditional inference train\n",
    "set.seed(415)\n",
    "fit2 <- party::cforest(as.factor(Survived) ~ Pclass + Sex + Age + SibSp + Parch + Fare + Embarked + Title + FamilySize + FamilyID, \n",
    "                       data = train, controls=cforest_unbiased(ntree=2000, mtry=3))"
   ]
  },
  {
   "cell_type": "code",
   "execution_count": 116,
   "metadata": {},
   "outputs": [
    {
     "data": {
      "text/html": [
       "0.86307519640853"
      ],
      "text/latex": [
       "0.86307519640853"
      ],
      "text/markdown": [
       "0.86307519640853"
      ],
      "text/plain": [
       "[1] 0.8630752"
      ]
     },
     "metadata": {},
     "output_type": "display_data"
    }
   ],
   "source": [
    "t_pred_2 = predict(fit2, train, OOB=FALSE, type = \"response\")\n",
    "confMat2 <- table(train$Survived,t_pred_2)\n",
    "sum(diag(confMat2))/sum(confMat2)"
   ]
  },
  {
   "cell_type": "code",
   "execution_count": null,
   "metadata": {},
   "outputs": [],
   "source": []
  }
 ],
 "metadata": {
  "kernelspec": {
   "display_name": "R",
   "language": "R",
   "name": "ir"
  },
  "language_info": {
   "codemirror_mode": "r",
   "file_extension": ".r",
   "mimetype": "text/x-r-source",
   "name": "R",
   "pygments_lexer": "r",
   "version": "3.5.1"
  }
 },
 "nbformat": 4,
 "nbformat_minor": 2
}

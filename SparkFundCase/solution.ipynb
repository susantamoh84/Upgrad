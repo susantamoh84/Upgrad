{
 "cells": [
  {
   "cell_type": "code",
   "execution_count": 1,
   "metadata": {},
   "outputs": [],
   "source": [
    "from dfply import *\n",
    "import pandas as pd"
   ]
  },
  {
   "cell_type": "code",
   "execution_count": 10,
   "metadata": {},
   "outputs": [
    {
     "name": "stdout",
     "output_type": "stream",
     "text": [
      "companies dim: (66368, 10)\n",
      "rounds dim: (114949, 6)\n",
      "master_frame dim: (114949, 16)\n"
     ]
    }
   ],
   "source": [
    "########Checkpoints - Part 1######\n",
    "##################################\n",
    "companies = pd.read_table(\"companies.txt\", encoding=\"ANSI\")\n",
    "companies[\"permalink\"] = companies.permalink.str.lower()\n",
    "print(\"companies dim:\", companies.shape)\n",
    "\n",
    "rounds = pd.read_csv(\"rounds2.csv\", encoding=\"ANSI\")\n",
    "rounds[\"company_permalink\"] = rounds.company_permalink.str.lower()\n",
    "print(\"rounds dim:\", rounds.shape)\n",
    "\n",
    "master_frame = rounds.merge(companies, left_on=\"company_permalink\", right_on=\"permalink\", how=\"left\")\n",
    "print(\"master_frame dim:\", master_frame.shape)"
   ]
  },
  {
   "cell_type": "code",
   "execution_count": 16,
   "metadata": {},
   "outputs": [
    {
     "data": {
      "text/plain": [
       "'venture'"
      ]
     },
     "execution_count": 16,
     "metadata": {},
     "output_type": "execute_result"
    }
   ],
   "source": [
    "########Checkpoints - Part 2######\n",
    "##################################\n",
    "raised_amount_per_funding_round = master_frame.groupby([\"funding_round_type\"]).agg({'raised_amount_usd':'mean'}).reset_index()\n",
    "suitable_funding_type = raised_amount_per_funding_round.query('raised_amount_usd >= 5000000 & raised_amount_usd <= 15000000')[\"funding_round_type\"].iloc[0]\n",
    "suitable_funding_type"
   ]
  },
  {
   "cell_type": "code",
   "execution_count": 42,
   "metadata": {},
   "outputs": [
    {
     "data": {
      "text/html": [
       "<div>\n",
       "<style scoped>\n",
       "    .dataframe tbody tr th:only-of-type {\n",
       "        vertical-align: middle;\n",
       "    }\n",
       "\n",
       "    .dataframe tbody tr th {\n",
       "        vertical-align: top;\n",
       "    }\n",
       "\n",
       "    .dataframe thead th {\n",
       "        text-align: right;\n",
       "    }\n",
       "</style>\n",
       "<table border=\"1\" class=\"dataframe\">\n",
       "  <thead>\n",
       "    <tr style=\"text-align: right;\">\n",
       "      <th></th>\n",
       "      <th>country_code</th>\n",
       "      <th>raised_amount_usd</th>\n",
       "    </tr>\n",
       "  </thead>\n",
       "  <tbody>\n",
       "    <tr>\n",
       "      <th>0</th>\n",
       "      <td>USA</td>\n",
       "      <td>4.225108e+11</td>\n",
       "    </tr>\n",
       "    <tr>\n",
       "      <th>1</th>\n",
       "      <td>CHN</td>\n",
       "      <td>3.983542e+10</td>\n",
       "    </tr>\n",
       "    <tr>\n",
       "      <th>2</th>\n",
       "      <td>GBR</td>\n",
       "      <td>2.024563e+10</td>\n",
       "    </tr>\n",
       "    <tr>\n",
       "      <th>3</th>\n",
       "      <td>IND</td>\n",
       "      <td>1.439186e+10</td>\n",
       "    </tr>\n",
       "    <tr>\n",
       "      <th>4</th>\n",
       "      <td>CAN</td>\n",
       "      <td>9.583332e+09</td>\n",
       "    </tr>\n",
       "    <tr>\n",
       "      <th>5</th>\n",
       "      <td>FRA</td>\n",
       "      <td>7.259537e+09</td>\n",
       "    </tr>\n",
       "    <tr>\n",
       "      <th>6</th>\n",
       "      <td>ISR</td>\n",
       "      <td>6.907515e+09</td>\n",
       "    </tr>\n",
       "    <tr>\n",
       "      <th>7</th>\n",
       "      <td>DEU</td>\n",
       "      <td>6.346960e+09</td>\n",
       "    </tr>\n",
       "    <tr>\n",
       "      <th>8</th>\n",
       "      <td>JPN</td>\n",
       "      <td>3.363677e+09</td>\n",
       "    </tr>\n",
       "  </tbody>\n",
       "</table>\n",
       "</div>"
      ],
      "text/plain": [
       "  country_code  raised_amount_usd\n",
       "0          USA       4.225108e+11\n",
       "1          CHN       3.983542e+10\n",
       "2          GBR       2.024563e+10\n",
       "3          IND       1.439186e+10\n",
       "4          CAN       9.583332e+09\n",
       "5          FRA       7.259537e+09\n",
       "6          ISR       6.907515e+09\n",
       "7          DEU       6.346960e+09\n",
       "8          JPN       3.363677e+09"
      ]
     },
     "execution_count": 42,
     "metadata": {},
     "output_type": "execute_result"
    }
   ],
   "source": [
    "########Checkpoints - Part 3######\n",
    "##################################\n",
    "master_frame_filtered = master_frame[master_frame['funding_round_type'] == suitable_funding_type]\n",
    "master_frame_filtered = master_frame_filtered.loc[~pd.isnull(master_frame.country_code)]\n",
    "master_frame_filtered_country_agg = master_frame_filtered.groupby([\"country_code\"]).agg({'raised_amount_usd':'sum'}).reset_index()\n",
    "top9 = master_frame_filtered_country_agg.sort_values(\"raised_amount_usd\", ascending=False).reset_index(drop=True).iloc[0:9]\n",
    "top9"
   ]
  },
  {
   "cell_type": "code",
   "execution_count": null,
   "metadata": {},
   "outputs": [],
   "source": []
  }
 ],
 "metadata": {
  "kernelspec": {
   "display_name": "Python 3",
   "language": "python",
   "name": "python3"
  },
  "language_info": {
   "codemirror_mode": {
    "name": "ipython",
    "version": 3
   },
   "file_extension": ".py",
   "mimetype": "text/x-python",
   "name": "python",
   "nbconvert_exporter": "python",
   "pygments_lexer": "ipython3",
   "version": "3.6.5"
  }
 },
 "nbformat": 4,
 "nbformat_minor": 2
}

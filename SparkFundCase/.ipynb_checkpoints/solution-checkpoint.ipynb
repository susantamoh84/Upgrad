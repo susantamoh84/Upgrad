{
 "cells": [
  {
   "cell_type": "code",
   "execution_count": 43,
   "metadata": {},
   "outputs": [],
   "source": [
    "import pandas as pd"
   ]
  },
  {
   "cell_type": "code",
   "execution_count": 10,
   "metadata": {},
   "outputs": [
    {
     "name": "stdout",
     "output_type": "stream",
     "text": [
      "companies dim: (66368, 10)\n",
      "rounds dim: (114949, 6)\n",
      "master_frame dim: (114949, 16)\n"
     ]
    }
   ],
   "source": [
    "########Checkpoints - Part 1######\n",
    "##################################\n",
    "companies = pd.read_table(\"companies.txt\", encoding=\"ANSI\")\n",
    "companies[\"permalink\"] = companies.permalink.str.lower()\n",
    "print(\"companies dim:\", companies.shape)\n",
    "\n",
    "rounds = pd.read_csv(\"rounds2.csv\", encoding=\"ANSI\")\n",
    "rounds[\"company_permalink\"] = rounds.company_permalink.str.lower()\n",
    "print(\"rounds dim:\", rounds.shape)\n",
    "\n",
    "master_frame = rounds.merge(companies, left_on=\"company_permalink\", right_on=\"permalink\", how=\"left\")\n",
    "print(\"master_frame dim:\", master_frame.shape)"
   ]
  },
  {
   "cell_type": "code",
   "execution_count": 16,
   "metadata": {},
   "outputs": [
    {
     "data": {
      "text/plain": [
       "'venture'"
      ]
     },
     "execution_count": 16,
     "metadata": {},
     "output_type": "execute_result"
    }
   ],
   "source": [
    "########Checkpoints - Part 2######\n",
    "##################################\n",
    "raised_amount_per_funding_round = master_frame.groupby([\"funding_round_type\"]).agg({'raised_amount_usd':'mean'}).reset_index()\n",
    "suitable_funding_type = raised_amount_per_funding_round.query('raised_amount_usd >= 5000000 & raised_amount_usd <= 15000000')[\"funding_round_type\"].iloc[0]\n",
    "suitable_funding_type"
   ]
  },
  {
   "cell_type": "code",
   "execution_count": 105,
   "metadata": {},
   "outputs": [
    {
     "name": "stdout",
     "output_type": "stream",
     "text": [
      "USA GBR IND\n"
     ]
    },
    {
     "data": {
      "text/html": [
       "<div>\n",
       "<style scoped>\n",
       "    .dataframe tbody tr th:only-of-type {\n",
       "        vertical-align: middle;\n",
       "    }\n",
       "\n",
       "    .dataframe tbody tr th {\n",
       "        vertical-align: top;\n",
       "    }\n",
       "\n",
       "    .dataframe thead th {\n",
       "        text-align: right;\n",
       "    }\n",
       "</style>\n",
       "<table border=\"1\" class=\"dataframe\">\n",
       "  <thead>\n",
       "    <tr style=\"text-align: right;\">\n",
       "      <th></th>\n",
       "      <th>country_code</th>\n",
       "      <th>raised_amount_usd</th>\n",
       "    </tr>\n",
       "  </thead>\n",
       "  <tbody>\n",
       "    <tr>\n",
       "      <th>0</th>\n",
       "      <td>USA</td>\n",
       "      <td>4.225108e+11</td>\n",
       "    </tr>\n",
       "    <tr>\n",
       "      <th>1</th>\n",
       "      <td>CHN</td>\n",
       "      <td>3.983542e+10</td>\n",
       "    </tr>\n",
       "    <tr>\n",
       "      <th>2</th>\n",
       "      <td>GBR</td>\n",
       "      <td>2.024563e+10</td>\n",
       "    </tr>\n",
       "    <tr>\n",
       "      <th>3</th>\n",
       "      <td>IND</td>\n",
       "      <td>1.439186e+10</td>\n",
       "    </tr>\n",
       "    <tr>\n",
       "      <th>4</th>\n",
       "      <td>CAN</td>\n",
       "      <td>9.583332e+09</td>\n",
       "    </tr>\n",
       "    <tr>\n",
       "      <th>5</th>\n",
       "      <td>FRA</td>\n",
       "      <td>7.259537e+09</td>\n",
       "    </tr>\n",
       "    <tr>\n",
       "      <th>6</th>\n",
       "      <td>ISR</td>\n",
       "      <td>6.907515e+09</td>\n",
       "    </tr>\n",
       "    <tr>\n",
       "      <th>7</th>\n",
       "      <td>DEU</td>\n",
       "      <td>6.346960e+09</td>\n",
       "    </tr>\n",
       "    <tr>\n",
       "      <th>8</th>\n",
       "      <td>JPN</td>\n",
       "      <td>3.363677e+09</td>\n",
       "    </tr>\n",
       "  </tbody>\n",
       "</table>\n",
       "</div>"
      ],
      "text/plain": [
       "  country_code  raised_amount_usd\n",
       "0          USA       4.225108e+11\n",
       "1          CHN       3.983542e+10\n",
       "2          GBR       2.024563e+10\n",
       "3          IND       1.439186e+10\n",
       "4          CAN       9.583332e+09\n",
       "5          FRA       7.259537e+09\n",
       "6          ISR       6.907515e+09\n",
       "7          DEU       6.346960e+09\n",
       "8          JPN       3.363677e+09"
      ]
     },
     "execution_count": 105,
     "metadata": {},
     "output_type": "execute_result"
    }
   ],
   "source": [
    "########Checkpoints - Part 3######\n",
    "##################################\n",
    "master_frame_filtered = master_frame[master_frame['funding_round_type'] == suitable_funding_type]\n",
    "master_frame_filtered = master_frame_filtered.loc[~pd.isnull(master_frame.country_code)]\n",
    "master_frame_filtered_country_agg = master_frame_filtered.groupby([\"country_code\"]).agg({'raised_amount_usd':'sum'}).reset_index()\n",
    "top9 = master_frame_filtered_country_agg.sort_values(\"raised_amount_usd\", ascending=False).reset_index(drop=True).iloc[0:9]\n",
    "c1 = top9.country_code.loc[0]\n",
    "c2 = top9.country_code.loc[2]\n",
    "c3 = top9.country_code.loc[3]\n",
    "print(c1, c2, c3)\n",
    "top9"
   ]
  },
  {
   "cell_type": "code",
   "execution_count": 167,
   "metadata": {},
   "outputs": [
    {
     "name": "stdout",
     "output_type": "stream",
     "text": [
      "mapping_long dim (687, 2)\n"
     ]
    },
    {
     "data": {
      "text/html": [
       "<div>\n",
       "<style scoped>\n",
       "    .dataframe tbody tr th:only-of-type {\n",
       "        vertical-align: middle;\n",
       "    }\n",
       "\n",
       "    .dataframe tbody tr th {\n",
       "        vertical-align: top;\n",
       "    }\n",
       "\n",
       "    .dataframe thead th {\n",
       "        text-align: right;\n",
       "    }\n",
       "</style>\n",
       "<table border=\"1\" class=\"dataframe\">\n",
       "  <thead>\n",
       "    <tr style=\"text-align: right;\">\n",
       "      <th></th>\n",
       "      <th>category_list</th>\n",
       "      <th>main_sector</th>\n",
       "    </tr>\n",
       "  </thead>\n",
       "  <tbody>\n",
       "    <tr>\n",
       "      <th>7</th>\n",
       "      <td>Adventure Travel</td>\n",
       "      <td>Automotive &amp; Sports</td>\n",
       "    </tr>\n",
       "    <tr>\n",
       "      <th>13</th>\n",
       "      <td>Aerospace</td>\n",
       "      <td>Automotive &amp; Sports</td>\n",
       "    </tr>\n",
       "    <tr>\n",
       "      <th>44</th>\n",
       "      <td>Auto</td>\n",
       "      <td>Automotive &amp; Sports</td>\n",
       "    </tr>\n",
       "    <tr>\n",
       "      <th>45</th>\n",
       "      <td>Automated Kiosk</td>\n",
       "      <td>Automotive &amp; Sports</td>\n",
       "    </tr>\n",
       "    <tr>\n",
       "      <th>46</th>\n",
       "      <td>Automotive</td>\n",
       "      <td>Automotive &amp; Sports</td>\n",
       "    </tr>\n",
       "  </tbody>\n",
       "</table>\n",
       "</div>"
      ],
      "text/plain": [
       "       category_list          main_sector\n",
       "7   Adventure Travel  Automotive & Sports\n",
       "13         Aerospace  Automotive & Sports\n",
       "44              Auto  Automotive & Sports\n",
       "45   Automated Kiosk  Automotive & Sports\n",
       "46        Automotive  Automotive & Sports"
      ]
     },
     "execution_count": 167,
     "metadata": {},
     "output_type": "execute_result"
    }
   ],
   "source": [
    "########Checkpoints - Part 4######\n",
    "##################################\n",
    "mapping = pd.read_csv(\"mapping.csv\", encoding=\"ANSI\")\n",
    "mapping = mapping.loc[~pd.isnull(mapping.category_list)].drop(['Blanks'], axis=1)\n",
    "mapping_long = pd.melt(mapping, id_vars=\"category_list\", var_name=\"main_sector\", value_name=\"val1\")\n",
    "mapping_long = mapping_long.query('val1 == 1').drop(['val1'], axis=1)\n",
    "mapping_long[\"category_list\"] = mapping_long.category_list.str.replace('^0', 'Na')\n",
    "mapping_long[\"category_list\"] = mapping_long.category_list.str.replace('([^\\\\.])(0)', '\\\\1na')\n",
    "print(\"mapping_long dim\", mapping_long.shape)\n",
    "mapping_long.head()"
   ]
  },
  {
   "cell_type": "code",
   "execution_count": 168,
   "metadata": {},
   "outputs": [
    {
     "name": "stdout",
     "output_type": "stream",
     "text": [
      "master_frame_sector dim (114949, 19)\n"
     ]
    }
   ],
   "source": [
    "master_frame[\"primary_category\"] = master_frame.category_list.str.split(\"\\\\|\", n=1, expand=True)[0]\n",
    "master_frame_sector = master_frame.merge(mapping_long, left_on=\"primary_category\", right_on=\"category_list\", how=\"left\")\n",
    "master_frame_sector[\"main_sector\"] = master_frame_sector.main_sector.fillna(\"\")\n",
    "print(\"master_frame_sector dim\", master_frame_sector.shape)\n",
    "#master_frame_sector.to_csv(\"master_frame_sector.csv\") -- fortableau"
   ]
  },
  {
   "cell_type": "code",
   "execution_count": 169,
   "metadata": {},
   "outputs": [
    {
     "name": "stdout",
     "output_type": "stream",
     "text": [
      "master_frame_c1 dim (12150, 19)\n",
      "D1 dim (12150, 21)\n"
     ]
    },
    {
     "data": {
      "text/html": [
       "<div>\n",
       "<style scoped>\n",
       "    .dataframe tbody tr th:only-of-type {\n",
       "        vertical-align: middle;\n",
       "    }\n",
       "\n",
       "    .dataframe tbody tr th {\n",
       "        vertical-align: top;\n",
       "    }\n",
       "\n",
       "    .dataframe thead th {\n",
       "        text-align: right;\n",
       "    }\n",
       "</style>\n",
       "<table border=\"1\" class=\"dataframe\">\n",
       "  <thead>\n",
       "    <tr style=\"text-align: right;\">\n",
       "      <th></th>\n",
       "      <th>main_sector</th>\n",
       "      <th>raised_amount_usd_count</th>\n",
       "      <th>raised_amount_usd_total</th>\n",
       "    </tr>\n",
       "  </thead>\n",
       "  <tbody>\n",
       "    <tr>\n",
       "      <th>0</th>\n",
       "      <td>Others</td>\n",
       "      <td>2950</td>\n",
       "      <td>2.632101e+10</td>\n",
       "    </tr>\n",
       "    <tr>\n",
       "      <th>1</th>\n",
       "      <td>Social, Finance, Analytics, Advertising</td>\n",
       "      <td>2714</td>\n",
       "      <td>2.380738e+10</td>\n",
       "    </tr>\n",
       "    <tr>\n",
       "      <th>2</th>\n",
       "      <td>Cleantech / Semiconductors</td>\n",
       "      <td>2350</td>\n",
       "      <td>2.163343e+10</td>\n",
       "    </tr>\n",
       "  </tbody>\n",
       "</table>\n",
       "</div>"
      ],
      "text/plain": [
       "                               main_sector  raised_amount_usd_count  \\\n",
       "0                                   Others                     2950   \n",
       "1  Social, Finance, Analytics, Advertising                     2714   \n",
       "2               Cleantech / Semiconductors                     2350   \n",
       "\n",
       "   raised_amount_usd_total  \n",
       "0             2.632101e+10  \n",
       "1             2.380738e+10  \n",
       "2             2.163343e+10  "
      ]
     },
     "execution_count": 169,
     "metadata": {},
     "output_type": "execute_result"
    }
   ],
   "source": [
    "########Checkpoints - Part 5######\n",
    "##################################\n",
    "###########################\n",
    "##### Prepare D1\n",
    "###########################\n",
    "master_frame_c1 = master_frame_sector[(master_frame_sector[\"funding_round_type\"]==suitable_funding_type) &\n",
    "                                      (master_frame_sector[\"country_code\"]==c1) & \\\n",
    "                                      (master_frame_sector[\"raised_amount_usd\"] >= 5000000) & \\\n",
    "                                      (master_frame_sector[\"raised_amount_usd\"] <= 15000000)]\n",
    "print(\"master_frame_c1 dim\", master_frame_c1.shape)\n",
    "master_frame_c1_agg = master_frame_c1[[\"main_sector\", \"raised_amount_usd\"]]\\\n",
    "                        .groupby([\"main_sector\"])\\\n",
    "                        .agg(['count', 'sum'])\\\n",
    "                        .rename(columns={'count':'raised_amount_usd_count', 'sum':'raised_amount_usd_total'})\n",
    "master_frame_c1_agg.columns = master_frame_c1_agg.columns.droplevel(0)\n",
    "D1 = master_frame_c1.merge(master_frame_c1_agg, on=\"main_sector\")\n",
    "print(\"D1 dim\", D1.shape)\n",
    "master_frame_c1_agg.sort_values([\"raised_amount_usd_count\"], ascending=False).reset_index().loc[0:2]"
   ]
  },
  {
   "cell_type": "code",
   "execution_count": 170,
   "metadata": {},
   "outputs": [
    {
     "name": "stdout",
     "output_type": "stream",
     "text": [
      "master_frame_c2 dim (628, 19)\n",
      "D2 dim (628, 21)\n"
     ]
    },
    {
     "data": {
      "text/html": [
       "<div>\n",
       "<style scoped>\n",
       "    .dataframe tbody tr th:only-of-type {\n",
       "        vertical-align: middle;\n",
       "    }\n",
       "\n",
       "    .dataframe tbody tr th {\n",
       "        vertical-align: top;\n",
       "    }\n",
       "\n",
       "    .dataframe thead th {\n",
       "        text-align: right;\n",
       "    }\n",
       "</style>\n",
       "<table border=\"1\" class=\"dataframe\">\n",
       "  <thead>\n",
       "    <tr style=\"text-align: right;\">\n",
       "      <th></th>\n",
       "      <th>main_sector</th>\n",
       "      <th>raised_amount_usd_count</th>\n",
       "      <th>raised_amount_usd_total</th>\n",
       "    </tr>\n",
       "  </thead>\n",
       "  <tbody>\n",
       "    <tr>\n",
       "      <th>0</th>\n",
       "      <td>Others</td>\n",
       "      <td>147</td>\n",
       "      <td>1.283624e+09</td>\n",
       "    </tr>\n",
       "    <tr>\n",
       "      <th>1</th>\n",
       "      <td>Social, Finance, Analytics, Advertising</td>\n",
       "      <td>133</td>\n",
       "      <td>1.089404e+09</td>\n",
       "    </tr>\n",
       "    <tr>\n",
       "      <th>2</th>\n",
       "      <td>Cleantech / Semiconductors</td>\n",
       "      <td>130</td>\n",
       "      <td>1.163990e+09</td>\n",
       "    </tr>\n",
       "  </tbody>\n",
       "</table>\n",
       "</div>"
      ],
      "text/plain": [
       "                               main_sector  raised_amount_usd_count  \\\n",
       "0                                   Others                      147   \n",
       "1  Social, Finance, Analytics, Advertising                      133   \n",
       "2               Cleantech / Semiconductors                      130   \n",
       "\n",
       "   raised_amount_usd_total  \n",
       "0             1.283624e+09  \n",
       "1             1.089404e+09  \n",
       "2             1.163990e+09  "
      ]
     },
     "execution_count": 170,
     "metadata": {},
     "output_type": "execute_result"
    }
   ],
   "source": [
    "###########################\n",
    "##### Prepare D2\n",
    "###########################\n",
    "master_frame_c2 = master_frame_sector[(master_frame_sector[\"funding_round_type\"]==suitable_funding_type) & \\\n",
    "                                      (master_frame_sector[\"country_code\"]==c2) & \\\n",
    "                                      (master_frame_sector[\"raised_amount_usd\"] >= 5000000) & \\\n",
    "                                      (master_frame_sector[\"raised_amount_usd\"] <= 15000000)]\n",
    "print(\"master_frame_c2 dim\", master_frame_c2.shape)\n",
    "master_frame_c2_agg = master_frame_c2[[\"main_sector\", \"raised_amount_usd\"]]\\\n",
    "                        .groupby([\"main_sector\"])\\\n",
    "                        .agg(['count', 'sum'])\\\n",
    "                        .rename(columns={'count':'raised_amount_usd_count', 'sum':'raised_amount_usd_total'})\n",
    "master_frame_c2_agg.columns = master_frame_c2_agg.columns.droplevel(0)\n",
    "D2 = master_frame_c2.merge(master_frame_c2_agg, on=\"main_sector\")\n",
    "print(\"D2 dim\", D2.shape)\n",
    "master_frame_c2_agg.sort_values([\"raised_amount_usd_count\"], ascending=False).reset_index().loc[0:2]"
   ]
  },
  {
   "cell_type": "code",
   "execution_count": 171,
   "metadata": {},
   "outputs": [
    {
     "name": "stdout",
     "output_type": "stream",
     "text": [
      "master_frame_c3 dim (330, 19)\n",
      "D3 dim (330, 21)\n"
     ]
    },
    {
     "data": {
      "text/html": [
       "<div>\n",
       "<style scoped>\n",
       "    .dataframe tbody tr th:only-of-type {\n",
       "        vertical-align: middle;\n",
       "    }\n",
       "\n",
       "    .dataframe tbody tr th {\n",
       "        vertical-align: top;\n",
       "    }\n",
       "\n",
       "    .dataframe thead th {\n",
       "        text-align: right;\n",
       "    }\n",
       "</style>\n",
       "<table border=\"1\" class=\"dataframe\">\n",
       "  <thead>\n",
       "    <tr style=\"text-align: right;\">\n",
       "      <th></th>\n",
       "      <th>main_sector</th>\n",
       "      <th>raised_amount_usd_count</th>\n",
       "      <th>raised_amount_usd_total</th>\n",
       "    </tr>\n",
       "  </thead>\n",
       "  <tbody>\n",
       "    <tr>\n",
       "      <th>0</th>\n",
       "      <td>Others</td>\n",
       "      <td>110</td>\n",
       "      <td>1.013410e+09</td>\n",
       "    </tr>\n",
       "    <tr>\n",
       "      <th>1</th>\n",
       "      <td>Social, Finance, Analytics, Advertising</td>\n",
       "      <td>60</td>\n",
       "      <td>5.505496e+08</td>\n",
       "    </tr>\n",
       "    <tr>\n",
       "      <th>2</th>\n",
       "      <td>News, Search and Messaging</td>\n",
       "      <td>52</td>\n",
       "      <td>4.338345e+08</td>\n",
       "    </tr>\n",
       "  </tbody>\n",
       "</table>\n",
       "</div>"
      ],
      "text/plain": [
       "                               main_sector  raised_amount_usd_count  \\\n",
       "0                                   Others                      110   \n",
       "1  Social, Finance, Analytics, Advertising                       60   \n",
       "2               News, Search and Messaging                       52   \n",
       "\n",
       "   raised_amount_usd_total  \n",
       "0             1.013410e+09  \n",
       "1             5.505496e+08  \n",
       "2             4.338345e+08  "
      ]
     },
     "execution_count": 171,
     "metadata": {},
     "output_type": "execute_result"
    }
   ],
   "source": [
    "###########################\n",
    "##### Prepare D3\n",
    "###########################\n",
    "master_frame_c3 = master_frame_sector[(master_frame_sector[\"funding_round_type\"]==suitable_funding_type) & \\\n",
    "                                      (master_frame_sector[\"country_code\"]==c3) & \\\n",
    "                                      (master_frame_sector[\"raised_amount_usd\"] >= 5000000) & \\\n",
    "                                      (master_frame_sector[\"raised_amount_usd\"] <= 15000000)]\n",
    "print(\"master_frame_c3 dim\", master_frame_c3.shape)\n",
    "master_frame_c3_agg = master_frame_c3[[\"main_sector\", \"raised_amount_usd\"]]\\\n",
    "                        .groupby([\"main_sector\"])\\\n",
    "                        .agg(['count', 'sum'])\\\n",
    "                        .rename(columns={'count':'raised_amount_usd_count', 'sum':'raised_amount_usd_total'})\n",
    "master_frame_c3_agg.columns = master_frame_c3_agg.columns.droplevel(0)\n",
    "D3 = master_frame_c3.merge(master_frame_c3_agg, on=\"main_sector\")\n",
    "print(\"D3 dim\", D3.shape)\n",
    "master_frame_c3_agg.sort_values([\"raised_amount_usd_count\"], ascending=False).reset_index().loc[0:2]"
   ]
  },
  {
   "cell_type": "code",
   "execution_count": 178,
   "metadata": {},
   "outputs": [
    {
     "data": {
      "text/plain": [
       "('Virtustream', 'Electric Cloud', 'FirstCry.com')"
      ]
     },
     "execution_count": 178,
     "metadata": {},
     "output_type": "execute_result"
    }
   ],
   "source": [
    "comp1 = D1.query('main_sector == \"Others\"').groupby([\"permalink\", \"name\"])\\\n",
    "            .agg({'raised_amount_usd':'sum'}).reset_index()\\\n",
    "            .sort_values([\"raised_amount_usd\"], ascending=False).reset_index()[\"name\"].loc[0]\n",
    "comp2 = D2.query('main_sector == \"Others\"').groupby([\"permalink\", \"name\"])\\\n",
    "            .agg({'raised_amount_usd':'sum'}).reset_index()\\\n",
    "            .sort_values([\"raised_amount_usd\"], ascending=False).reset_index()[\"name\"].loc[0]\n",
    "comp3 = D3.query('main_sector == \"Others\"').groupby([\"permalink\", \"name\"])\\\n",
    "            .agg({'raised_amount_usd':'sum'}).reset_index()\\\n",
    "            .sort_values([\"raised_amount_usd\"], ascending=False).reset_index()[\"name\"].loc[0]\n",
    "(comp1, comp2, comp3)"
   ]
  },
  {
   "cell_type": "code",
   "execution_count": 179,
   "metadata": {},
   "outputs": [
    {
     "data": {
      "text/plain": [
       "('SST Inc. (Formerly ShotSpotter)', 'Celltick Technologies', 'Manthan Systems')"
      ]
     },
     "execution_count": 179,
     "metadata": {},
     "output_type": "execute_result"
    }
   ],
   "source": [
    "comp1_1 = D1.query('main_sector == \"Social, Finance, Analytics, Advertising\"').groupby([\"permalink\", \"name\"])\\\n",
    "            .agg({'raised_amount_usd':'sum'}).reset_index()\\\n",
    "            .sort_values([\"raised_amount_usd\"], ascending=False).reset_index()[\"name\"].loc[0]\n",
    "comp2_1 = D2.query('main_sector == \"Social, Finance, Analytics, Advertising\"').groupby([\"permalink\", \"name\"])\\\n",
    "            .agg({'raised_amount_usd':'sum'}).reset_index()\\\n",
    "            .sort_values([\"raised_amount_usd\"], ascending=False).reset_index()[\"name\"].loc[0]\n",
    "comp3_1 = D3.query('main_sector == \"Social, Finance, Analytics, Advertising\"').groupby([\"permalink\", \"name\"])\\\n",
    "            .agg({'raised_amount_usd':'sum'}).reset_index()\\\n",
    "            .sort_values([\"raised_amount_usd\"], ascending=False).reset_index()[\"name\"].loc[0]\n",
    "(comp1_1, comp2_1, comp3_1)"
   ]
  },
  {
   "cell_type": "code",
   "execution_count": null,
   "metadata": {},
   "outputs": [],
   "source": []
  }
 ],
 "metadata": {
  "kernelspec": {
   "display_name": "Python 3",
   "language": "python",
   "name": "python3"
  },
  "language_info": {
   "codemirror_mode": {
    "name": "ipython",
    "version": 3
   },
   "file_extension": ".py",
   "mimetype": "text/x-python",
   "name": "python",
   "nbconvert_exporter": "python",
   "pygments_lexer": "ipython3",
   "version": "3.6.5"
  }
 },
 "nbformat": 4,
 "nbformat_minor": 2
}

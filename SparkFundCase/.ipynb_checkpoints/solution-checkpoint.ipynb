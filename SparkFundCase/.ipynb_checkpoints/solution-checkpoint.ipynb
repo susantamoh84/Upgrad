{
 "cells": [
  {
   "cell_type": "code",
   "execution_count": 1,
   "metadata": {},
   "outputs": [],
   "source": [
    "from dfply import *\n",
    "import pandas as pd"
   ]
  },
  {
   "cell_type": "code",
   "execution_count": 10,
   "metadata": {},
   "outputs": [
    {
     "name": "stdout",
     "output_type": "stream",
     "text": [
      "companies dim: (66368, 10)\n",
      "rounds dim: (114949, 6)\n",
      "master_frame dim: (114949, 16)\n"
     ]
    }
   ],
   "source": [
    "########Checkpoints - Part 1######\n",
    "##################################\n",
    "companies = pd.read_table(\"companies.txt\", encoding=\"ANSI\")\n",
    "companies[\"permalink\"] = companies.permalink.str.lower()\n",
    "print(\"companies dim:\", companies.shape)\n",
    "\n",
    "rounds = pd.read_csv(\"rounds2.csv\", encoding=\"ANSI\")\n",
    "rounds[\"company_permalink\"] = rounds.company_permalink.str.lower()\n",
    "print(\"rounds dim:\", rounds.shape)\n",
    "\n",
    "master_frame = rounds.merge(companies, left_on=\"company_permalink\", right_on=\"permalink\", how=\"left\")\n",
    "print(\"master_frame dim:\", master_frame.shape)"
   ]
  },
  {
   "cell_type": "code",
   "execution_count": 16,
   "metadata": {},
   "outputs": [
    {
     "data": {
      "text/plain": [
       "'venture'"
      ]
     },
     "execution_count": 16,
     "metadata": {},
     "output_type": "execute_result"
    }
   ],
   "source": [
    "########Checkpoints - Part 2######\n",
    "##################################\n",
    "raised_amount_per_funding_round = master_frame.groupby([\"funding_round_type\"]).agg({'raised_amount_usd':'mean'}).reset_index()\n",
    "suitable_funding_type = raised_amount_per_funding_round.query('raised_amount_usd >= 5000000 & raised_amount_usd <= 15000000')[\"funding_round_type\"].iloc[0]\n",
    "suitable_funding_type"
   ]
  },
  {
   "cell_type": "code",
   "execution_count": null,
   "metadata": {},
   "outputs": [],
   "source": []
  }
 ],
 "metadata": {
  "kernelspec": {
   "display_name": "Python 3",
   "language": "python",
   "name": "python3"
  },
  "language_info": {
   "codemirror_mode": {
    "name": "ipython",
    "version": 3
   },
   "file_extension": ".py",
   "mimetype": "text/x-python",
   "name": "python",
   "nbconvert_exporter": "python",
   "pygments_lexer": "ipython3",
   "version": "3.6.5"
  }
 },
 "nbformat": 4,
 "nbformat_minor": 2
}
